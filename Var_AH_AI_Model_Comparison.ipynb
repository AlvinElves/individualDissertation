{
 "cells": [
  {
   "cell_type": "markdown",
   "metadata": {
    "id": "vvfF_6obji44"
   },
   "source": [
    "# Importing Packages and Dataset"
   ]
  },
  {
   "cell_type": "code",
   "execution_count": null,
   "metadata": {
    "id": "FbN_5CESfXbm"
   },
   "outputs": [],
   "source": [
    "!pip install --upgrade xlrd"
   ]
  },
  {
   "cell_type": "code",
   "execution_count": null,
   "metadata": {
    "id": "dnHgxFHHLWzZ"
   },
   "outputs": [],
   "source": [
    "!pip install mlxtend --upgrade"
   ]
  },
  {
   "cell_type": "code",
   "execution_count": null,
   "metadata": {
    "id": "zGx-s-6QiNhO"
   },
   "outputs": [],
   "source": [
    "!pip install --upgrade verstack"
   ]
  },
  {
   "cell_type": "code",
   "execution_count": 1,
   "metadata": {
    "id": "25hU70xLjlQv"
   },
   "outputs": [],
   "source": [
    "import numpy as np\n",
    "import sklearn\n",
    "import pandas as pd\n",
    "import matplotlib.pyplot as plt\n",
    "import seaborn as sns\n",
    "\n",
    "# Data Imputation\n",
    "from sklearn.impute import SimpleImputer, KNNImputer\n",
    "\n",
    "# Feature Selection\n",
    "from sklearn import linear_model\n",
    "from sklearn.feature_selection import SelectFromModel\n",
    "from sklearn.preprocessing import StandardScaler\n",
    "from sklearn.decomposition import PCA\n",
    "\n",
    "from verstack.stratified_continuous_split import scsplit\n",
    "\n",
    "# AI Models\n",
    "from sklearn.model_selection import train_test_split, RandomizedSearchCV, GridSearchCV\n",
    "from sklearn.linear_model import LinearRegression\n",
    "from sklearn.neighbors import KNeighborsRegressor\n",
    "from sklearn.naive_bayes import GaussianNB\n",
    "from sklearn.svm import SVR\n",
    "from sklearn.tree import DecisionTreeRegressor\n",
    "from sklearn.ensemble import RandomForestRegressor\n",
    "from sklearn.neural_network import MLPRegressor\n",
    "\n",
    "# Evaluation Metrics\n",
    "from sklearn.metrics import mean_absolute_error, mean_squared_error\n",
    "from mlxtend.evaluate import bias_variance_decomp, paired_ttest_5x2cv"
   ]
  },
  {
   "cell_type": "code",
   "execution_count": 23,
   "metadata": {
    "colab": {
     "base_uri": "https://localhost:8080/",
     "height": 357
    },
    "id": "lUFwLwicl5rd",
    "outputId": "0dfae135-9ddc-4ec9-8566-8d8a6e1ec081"
   },
   "outputs": [
    {
     "data": {
      "text/html": [
       "<div>\n",
       "<style scoped>\n",
       "    .dataframe tbody tr th:only-of-type {\n",
       "        vertical-align: middle;\n",
       "    }\n",
       "\n",
       "    .dataframe tbody tr th {\n",
       "        vertical-align: top;\n",
       "    }\n",
       "\n",
       "    .dataframe thead th {\n",
       "        text-align: right;\n",
       "    }\n",
       "</style>\n",
       "<table border=\"1\" class=\"dataframe\">\n",
       "  <thead>\n",
       "    <tr style=\"text-align: right;\">\n",
       "      <th></th>\n",
       "      <th>Date</th>\n",
       "      <th>Time</th>\n",
       "      <th>CO(GT)</th>\n",
       "      <th>PT08.S1(CO)</th>\n",
       "      <th>NMHC(GT)</th>\n",
       "      <th>C6H6(GT)</th>\n",
       "      <th>PT08.S2(NMHC)</th>\n",
       "      <th>NOx(GT)</th>\n",
       "      <th>PT08.S3(NOx)</th>\n",
       "      <th>NO2(GT)</th>\n",
       "      <th>PT08.S4(NO2)</th>\n",
       "      <th>PT08.S5(O3)</th>\n",
       "      <th>T</th>\n",
       "      <th>RH</th>\n",
       "      <th>AH</th>\n",
       "    </tr>\n",
       "  </thead>\n",
       "  <tbody>\n",
       "    <tr>\n",
       "      <th>0</th>\n",
       "      <td>2004-03-10</td>\n",
       "      <td>18:00:00</td>\n",
       "      <td>2.6</td>\n",
       "      <td>1360.00</td>\n",
       "      <td>150</td>\n",
       "      <td>11.881723</td>\n",
       "      <td>1045.50</td>\n",
       "      <td>166.0</td>\n",
       "      <td>1056.25</td>\n",
       "      <td>113.0</td>\n",
       "      <td>1692.00</td>\n",
       "      <td>1267.50</td>\n",
       "      <td>13.60</td>\n",
       "      <td>48.875001</td>\n",
       "      <td>0.757754</td>\n",
       "    </tr>\n",
       "    <tr>\n",
       "      <th>1</th>\n",
       "      <td>2004-03-10</td>\n",
       "      <td>19:00:00</td>\n",
       "      <td>2.0</td>\n",
       "      <td>1292.25</td>\n",
       "      <td>112</td>\n",
       "      <td>9.397165</td>\n",
       "      <td>954.75</td>\n",
       "      <td>103.0</td>\n",
       "      <td>1173.75</td>\n",
       "      <td>92.0</td>\n",
       "      <td>1558.75</td>\n",
       "      <td>972.25</td>\n",
       "      <td>13.30</td>\n",
       "      <td>47.700000</td>\n",
       "      <td>0.725487</td>\n",
       "    </tr>\n",
       "    <tr>\n",
       "      <th>2</th>\n",
       "      <td>2004-03-10</td>\n",
       "      <td>20:00:00</td>\n",
       "      <td>2.2</td>\n",
       "      <td>1402.00</td>\n",
       "      <td>88</td>\n",
       "      <td>8.997817</td>\n",
       "      <td>939.25</td>\n",
       "      <td>131.0</td>\n",
       "      <td>1140.00</td>\n",
       "      <td>114.0</td>\n",
       "      <td>1554.50</td>\n",
       "      <td>1074.00</td>\n",
       "      <td>11.90</td>\n",
       "      <td>53.975000</td>\n",
       "      <td>0.750239</td>\n",
       "    </tr>\n",
       "    <tr>\n",
       "      <th>3</th>\n",
       "      <td>2004-03-10</td>\n",
       "      <td>21:00:00</td>\n",
       "      <td>2.2</td>\n",
       "      <td>1375.50</td>\n",
       "      <td>80</td>\n",
       "      <td>9.228796</td>\n",
       "      <td>948.25</td>\n",
       "      <td>172.0</td>\n",
       "      <td>1092.00</td>\n",
       "      <td>122.0</td>\n",
       "      <td>1583.75</td>\n",
       "      <td>1203.25</td>\n",
       "      <td>11.00</td>\n",
       "      <td>60.000000</td>\n",
       "      <td>0.786713</td>\n",
       "    </tr>\n",
       "    <tr>\n",
       "      <th>4</th>\n",
       "      <td>2004-03-10</td>\n",
       "      <td>22:00:00</td>\n",
       "      <td>1.6</td>\n",
       "      <td>1272.25</td>\n",
       "      <td>51</td>\n",
       "      <td>6.518224</td>\n",
       "      <td>835.50</td>\n",
       "      <td>131.0</td>\n",
       "      <td>1205.00</td>\n",
       "      <td>116.0</td>\n",
       "      <td>1490.00</td>\n",
       "      <td>1110.00</td>\n",
       "      <td>11.15</td>\n",
       "      <td>59.575001</td>\n",
       "      <td>0.788794</td>\n",
       "    </tr>\n",
       "  </tbody>\n",
       "</table>\n",
       "</div>"
      ],
      "text/plain": [
       "        Date      Time  CO(GT)  PT08.S1(CO)  NMHC(GT)   C6H6(GT)  \\\n",
       "0 2004-03-10  18:00:00     2.6      1360.00       150  11.881723   \n",
       "1 2004-03-10  19:00:00     2.0      1292.25       112   9.397165   \n",
       "2 2004-03-10  20:00:00     2.2      1402.00        88   8.997817   \n",
       "3 2004-03-10  21:00:00     2.2      1375.50        80   9.228796   \n",
       "4 2004-03-10  22:00:00     1.6      1272.25        51   6.518224   \n",
       "\n",
       "   PT08.S2(NMHC)  NOx(GT)  PT08.S3(NOx)  NO2(GT)  PT08.S4(NO2)  PT08.S5(O3)  \\\n",
       "0        1045.50    166.0       1056.25    113.0       1692.00      1267.50   \n",
       "1         954.75    103.0       1173.75     92.0       1558.75       972.25   \n",
       "2         939.25    131.0       1140.00    114.0       1554.50      1074.00   \n",
       "3         948.25    172.0       1092.00    122.0       1583.75      1203.25   \n",
       "4         835.50    131.0       1205.00    116.0       1490.00      1110.00   \n",
       "\n",
       "       T         RH        AH  \n",
       "0  13.60  48.875001  0.757754  \n",
       "1  13.30  47.700000  0.725487  \n",
       "2  11.90  53.975000  0.750239  \n",
       "3  11.00  60.000000  0.786713  \n",
       "4  11.15  59.575001  0.788794  "
      ]
     },
     "execution_count": 23,
     "metadata": {},
     "output_type": "execute_result"
    }
   ],
   "source": [
    "# To load the data and display some rows\n",
    "all_df = pd.read_excel(r\"Dataset\\AirQualityUCI.xlsx\")\n",
    "all_df.head()"
   ]
  },
  {
   "cell_type": "code",
   "execution_count": 24,
   "metadata": {
    "colab": {
     "base_uri": "https://localhost:8080/"
    },
    "id": "M1TFW9n8SKjC",
    "outputId": "a75f7bec-3654-48d1-cdb5-88f57ae73f6a"
   },
   "outputs": [
    {
     "data": {
      "text/plain": [
       "(9357, 15)"
      ]
     },
     "execution_count": 24,
     "metadata": {},
     "output_type": "execute_result"
    }
   ],
   "source": [
    "# Size of the dataset\n",
    "all_df.shape"
   ]
  },
  {
   "cell_type": "code",
   "execution_count": 25,
   "metadata": {
    "colab": {
     "base_uri": "https://localhost:8080/"
    },
    "id": "r8R7G26tl9VI",
    "outputId": "d6a6322d-88fe-4c9a-d827-ac5906896cf5"
   },
   "outputs": [
    {
     "data": {
      "text/plain": [
       "Date                0\n",
       "Time                0\n",
       "CO(GT)           1647\n",
       "PT08.S1(CO)         0\n",
       "NMHC(GT)         8104\n",
       "C6H6(GT)            0\n",
       "PT08.S2(NMHC)       0\n",
       "NOx(GT)          1595\n",
       "PT08.S3(NOx)        0\n",
       "NO2(GT)          1598\n",
       "PT08.S4(NO2)        0\n",
       "PT08.S5(O3)         0\n",
       "T                   0\n",
       "RH                  0\n",
       "AH                  0\n",
       "dtype: int64"
      ]
     },
     "execution_count": 25,
     "metadata": {},
     "output_type": "execute_result"
    }
   ],
   "source": [
    "# Change the values of -200 to null\n",
    "all_df[all_df == -200] = np.NaN\n",
    "all_df=all_df.dropna(subset=['AH']).reset_index(drop=True)\n",
    "all_df.isnull().sum()"
   ]
  },
  {
   "cell_type": "markdown",
   "metadata": {
    "id": "YlCHcTSFL3jl"
   },
   "source": [
    "# Data Visualisation"
   ]
  },
  {
   "cell_type": "code",
   "execution_count": 5,
   "metadata": {
    "colab": {
     "base_uri": "https://localhost:8080/"
    },
    "id": "gQVjzYJgL5rx",
    "outputId": "d1e01dc1-1d46-448c-8245-0171d2714370"
   },
   "outputs": [
    {
     "name": "stdout",
     "output_type": "stream",
     "text": [
      "<class 'pandas.core.frame.DataFrame'>\n",
      "RangeIndex: 8991 entries, 0 to 8990\n",
      "Data columns (total 15 columns):\n",
      " #   Column         Non-Null Count  Dtype         \n",
      "---  ------         --------------  -----         \n",
      " 0   Date           8991 non-null   datetime64[ns]\n",
      " 1   Time           8991 non-null   object        \n",
      " 2   CO(GT)         7344 non-null   float64       \n",
      " 3   PT08.S1(CO)    8991 non-null   float64       \n",
      " 4   NMHC(GT)       887 non-null    float64       \n",
      " 5   C6H6(GT)       8991 non-null   float64       \n",
      " 6   PT08.S2(NMHC)  8991 non-null   float64       \n",
      " 7   NOx(GT)        7396 non-null   float64       \n",
      " 8   PT08.S3(NOx)   8991 non-null   float64       \n",
      " 9   NO2(GT)        7393 non-null   float64       \n",
      " 10  PT08.S4(NO2)   8991 non-null   float64       \n",
      " 11  PT08.S5(O3)    8991 non-null   float64       \n",
      " 12  T              8991 non-null   float64       \n",
      " 13  RH             8991 non-null   float64       \n",
      " 14  AH             8991 non-null   float64       \n",
      "dtypes: datetime64[ns](1), float64(13), object(1)\n",
      "memory usage: 1.0+ MB\n"
     ]
    }
   ],
   "source": [
    "#See the info of the Data\n",
    "all_df.info() "
   ]
  },
  {
   "cell_type": "code",
   "execution_count": 6,
   "metadata": {
    "colab": {
     "base_uri": "https://localhost:8080/",
     "height": 364
    },
    "id": "7glFbJ7RPmcc",
    "outputId": "94b7bc16-2a5f-4217-b1e2-e13e28107d2b"
   },
   "outputs": [
    {
     "data": {
      "text/html": [
       "<div>\n",
       "<style scoped>\n",
       "    .dataframe tbody tr th:only-of-type {\n",
       "        vertical-align: middle;\n",
       "    }\n",
       "\n",
       "    .dataframe tbody tr th {\n",
       "        vertical-align: top;\n",
       "    }\n",
       "\n",
       "    .dataframe thead th {\n",
       "        text-align: right;\n",
       "    }\n",
       "</style>\n",
       "<table border=\"1\" class=\"dataframe\">\n",
       "  <thead>\n",
       "    <tr style=\"text-align: right;\">\n",
       "      <th></th>\n",
       "      <th>CO(GT)</th>\n",
       "      <th>PT08.S1(CO)</th>\n",
       "      <th>NMHC(GT)</th>\n",
       "      <th>C6H6(GT)</th>\n",
       "      <th>PT08.S2(NMHC)</th>\n",
       "      <th>NOx(GT)</th>\n",
       "      <th>PT08.S3(NOx)</th>\n",
       "      <th>NO2(GT)</th>\n",
       "      <th>PT08.S4(NO2)</th>\n",
       "      <th>PT08.S5(O3)</th>\n",
       "      <th>T</th>\n",
       "      <th>RH</th>\n",
       "      <th>AH</th>\n",
       "    </tr>\n",
       "  </thead>\n",
       "  <tbody>\n",
       "    <tr>\n",
       "      <th>count</th>\n",
       "      <td>7344.000000</td>\n",
       "      <td>8991.000000</td>\n",
       "      <td>887.000000</td>\n",
       "      <td>8991.000000</td>\n",
       "      <td>8991.000000</td>\n",
       "      <td>7396.000000</td>\n",
       "      <td>8991.000000</td>\n",
       "      <td>7393.000000</td>\n",
       "      <td>8991.000000</td>\n",
       "      <td>8991.000000</td>\n",
       "      <td>8991.000000</td>\n",
       "      <td>8991.000000</td>\n",
       "      <td>8991.000000</td>\n",
       "    </tr>\n",
       "    <tr>\n",
       "      <th>mean</th>\n",
       "      <td>2.129711</td>\n",
       "      <td>1099.707856</td>\n",
       "      <td>218.607666</td>\n",
       "      <td>10.082993</td>\n",
       "      <td>939.029205</td>\n",
       "      <td>242.174351</td>\n",
       "      <td>835.370973</td>\n",
       "      <td>112.129974</td>\n",
       "      <td>1456.143486</td>\n",
       "      <td>1022.780725</td>\n",
       "      <td>18.316054</td>\n",
       "      <td>49.232360</td>\n",
       "      <td>1.025530</td>\n",
       "    </tr>\n",
       "    <tr>\n",
       "      <th>std</th>\n",
       "      <td>1.436472</td>\n",
       "      <td>217.084571</td>\n",
       "      <td>206.615130</td>\n",
       "      <td>7.449640</td>\n",
       "      <td>266.829000</td>\n",
       "      <td>206.304577</td>\n",
       "      <td>256.815106</td>\n",
       "      <td>47.618852</td>\n",
       "      <td>346.204540</td>\n",
       "      <td>398.480897</td>\n",
       "      <td>8.832888</td>\n",
       "      <td>17.316389</td>\n",
       "      <td>0.403813</td>\n",
       "    </tr>\n",
       "    <tr>\n",
       "      <th>min</th>\n",
       "      <td>0.100000</td>\n",
       "      <td>647.250000</td>\n",
       "      <td>7.000000</td>\n",
       "      <td>0.149048</td>\n",
       "      <td>383.250000</td>\n",
       "      <td>2.000000</td>\n",
       "      <td>322.000000</td>\n",
       "      <td>2.000000</td>\n",
       "      <td>551.000000</td>\n",
       "      <td>221.000000</td>\n",
       "      <td>-1.900000</td>\n",
       "      <td>9.175000</td>\n",
       "      <td>0.184679</td>\n",
       "    </tr>\n",
       "    <tr>\n",
       "      <th>25%</th>\n",
       "      <td>1.100000</td>\n",
       "      <td>936.750000</td>\n",
       "      <td>66.000000</td>\n",
       "      <td>4.436942</td>\n",
       "      <td>734.375000</td>\n",
       "      <td>97.000000</td>\n",
       "      <td>657.875000</td>\n",
       "      <td>77.000000</td>\n",
       "      <td>1226.625000</td>\n",
       "      <td>731.375000</td>\n",
       "      <td>11.787500</td>\n",
       "      <td>35.812500</td>\n",
       "      <td>0.736769</td>\n",
       "    </tr>\n",
       "    <tr>\n",
       "      <th>50%</th>\n",
       "      <td>1.800000</td>\n",
       "      <td>1063.000000</td>\n",
       "      <td>145.000000</td>\n",
       "      <td>8.239851</td>\n",
       "      <td>909.000000</td>\n",
       "      <td>178.000000</td>\n",
       "      <td>805.500000</td>\n",
       "      <td>108.500000</td>\n",
       "      <td>1462.750000</td>\n",
       "      <td>963.250000</td>\n",
       "      <td>17.750000</td>\n",
       "      <td>49.550000</td>\n",
       "      <td>0.995395</td>\n",
       "    </tr>\n",
       "    <tr>\n",
       "      <th>75%</th>\n",
       "      <td>2.800000</td>\n",
       "      <td>1231.250000</td>\n",
       "      <td>297.000000</td>\n",
       "      <td>13.988478</td>\n",
       "      <td>1116.250000</td>\n",
       "      <td>321.000000</td>\n",
       "      <td>969.250000</td>\n",
       "      <td>140.000000</td>\n",
       "      <td>1673.500000</td>\n",
       "      <td>1273.375000</td>\n",
       "      <td>24.400000</td>\n",
       "      <td>62.500001</td>\n",
       "      <td>1.313701</td>\n",
       "    </tr>\n",
       "    <tr>\n",
       "      <th>max</th>\n",
       "      <td>11.900000</td>\n",
       "      <td>2039.750000</td>\n",
       "      <td>1189.000000</td>\n",
       "      <td>63.741476</td>\n",
       "      <td>2214.000000</td>\n",
       "      <td>1479.000000</td>\n",
       "      <td>2682.750000</td>\n",
       "      <td>332.600000</td>\n",
       "      <td>2775.000000</td>\n",
       "      <td>2522.750000</td>\n",
       "      <td>44.600000</td>\n",
       "      <td>88.725000</td>\n",
       "      <td>2.231036</td>\n",
       "    </tr>\n",
       "  </tbody>\n",
       "</table>\n",
       "</div>"
      ],
      "text/plain": [
       "            CO(GT)  PT08.S1(CO)     NMHC(GT)     C6H6(GT)  PT08.S2(NMHC)  \\\n",
       "count  7344.000000  8991.000000   887.000000  8991.000000    8991.000000   \n",
       "mean      2.129711  1099.707856   218.607666    10.082993     939.029205   \n",
       "std       1.436472   217.084571   206.615130     7.449640     266.829000   \n",
       "min       0.100000   647.250000     7.000000     0.149048     383.250000   \n",
       "25%       1.100000   936.750000    66.000000     4.436942     734.375000   \n",
       "50%       1.800000  1063.000000   145.000000     8.239851     909.000000   \n",
       "75%       2.800000  1231.250000   297.000000    13.988478    1116.250000   \n",
       "max      11.900000  2039.750000  1189.000000    63.741476    2214.000000   \n",
       "\n",
       "           NOx(GT)  PT08.S3(NOx)      NO2(GT)  PT08.S4(NO2)  PT08.S5(O3)  \\\n",
       "count  7396.000000   8991.000000  7393.000000   8991.000000  8991.000000   \n",
       "mean    242.174351    835.370973   112.129974   1456.143486  1022.780725   \n",
       "std     206.304577    256.815106    47.618852    346.204540   398.480897   \n",
       "min       2.000000    322.000000     2.000000    551.000000   221.000000   \n",
       "25%      97.000000    657.875000    77.000000   1226.625000   731.375000   \n",
       "50%     178.000000    805.500000   108.500000   1462.750000   963.250000   \n",
       "75%     321.000000    969.250000   140.000000   1673.500000  1273.375000   \n",
       "max    1479.000000   2682.750000   332.600000   2775.000000  2522.750000   \n",
       "\n",
       "                 T           RH           AH  \n",
       "count  8991.000000  8991.000000  8991.000000  \n",
       "mean     18.316054    49.232360     1.025530  \n",
       "std       8.832888    17.316389     0.403813  \n",
       "min      -1.900000     9.175000     0.184679  \n",
       "25%      11.787500    35.812500     0.736769  \n",
       "50%      17.750000    49.550000     0.995395  \n",
       "75%      24.400000    62.500001     1.313701  \n",
       "max      44.600000    88.725000     2.231036  "
      ]
     },
     "execution_count": 6,
     "metadata": {},
     "output_type": "execute_result"
    }
   ],
   "source": [
    "# Basic Stats of all features\n",
    "all_df.describe()"
   ]
  },
  {
   "cell_type": "code",
   "execution_count": 7,
   "metadata": {
    "colab": {
     "base_uri": "https://localhost:8080/",
     "height": 749
    },
    "id": "PnSthyKEUvme",
    "outputId": "b9263945-f61b-4aaf-eff1-182e9018e40d"
   },
   "outputs": [
    {
     "data": {
      "image/png": "[encoded data removed]",
      "text/plain": [
       "<Figure size 1500x10000 with 120 Axes>"
      ]
     },
     "metadata": {},
     "output_type": "display_data"
    }
   ],
   "source": [
    "# Boxplot to see the outliers\n",
    "data_mean = all_df.copy()\n",
    "data_mean.plot(kind='box', subplots=True, layout=(30,4), sharex=False, sharey=False, fontsize=12, figsize=(15,100));"
   ]
  },
  {
   "cell_type": "code",
   "execution_count": 8,
   "metadata": {
    "colab": {
     "base_uri": "https://localhost:8080/",
     "height": 654
    },
    "id": "DohcsEgdVWuv",
    "outputId": "866efac8-7958-4ad2-dedb-a18b160c975f"
   },
   "outputs": [
    {
     "data": {
      "image/png": "[encoded data removed]",
      "text/plain": [
       "<Figure size 2000x1200 with 2 Axes>"
      ]
     },
     "metadata": {},
     "output_type": "display_data"
    }
   ],
   "source": [
    "# Compute the correlation matrix to observe the correlations between pair of features. \n",
    "cor_df = all_df.copy()\n",
    "cor_df = cor_df.iloc[:,0:15]\n",
    "cor_df.shape\n",
    "corrMatt = cor_df.iloc[1:15,:].corr()\n",
    "# Generate a mask for the upper triangle\n",
    "mask = np.zeros_like(corrMatt)\n",
    "mask[np.triu_indices_from(mask)] = True\n",
    "# Set up the matplotlib figure\n",
    "fig, ax = plt.subplots(figsize=(20, 12))\n",
    "plt.title('Feature Correlation')\n",
    "# Generate a custom diverging colormap\n",
    "cmap = sns.diverging_palette(260, 10, as_cmap=True)\n",
    "# Draw the heatmap with the mask and correct aspect ratio\n",
    "sns.heatmap(corrMatt, vmax=1.2, square=False, cmap=cmap, mask=mask, \n",
    "ax=ax, annot=True, fmt='.2g', linewidths=1);"
   ]
  },
  {
   "cell_type": "markdown",
   "metadata": {
    "id": "78zl4baZU2EV"
   },
   "source": [
    "# Split data to test and training set"
   ]
  },
  {
   "cell_type": "code",
   "execution_count": 34,
   "metadata": {
    "id": "gX0jVmOEUzMl"
   },
   "outputs": [
    {
     "data": {
      "text/plain": [
       "0       0.757754\n",
       "1       0.725487\n",
       "2       0.750239\n",
       "3       0.786713\n",
       "4       0.788794\n",
       "          ...   \n",
       "8986    0.756824\n",
       "8987    0.711864\n",
       "8988    0.640649\n",
       "8989    0.513866\n",
       "8990    0.502804\n",
       "Name: AH, Length: 8991, dtype: float64"
      ]
     },
     "execution_count": 34,
     "metadata": {},
     "output_type": "execute_result"
    }
   ],
   "source": [
    "# Split the dataframe to X and Y variables\n",
    "X = all_df.drop(['Date', 'Time', 'T', 'RH', 'AH'], axis=1)\n",
    "Y = all_df['AH']\n",
    "Y"
   ]
  },
  {
   "cell_type": "code",
   "execution_count": 39,
   "metadata": {
    "id": "6j0XO9noWa7P"
   },
   "outputs": [],
   "source": [
    "# Split the data into train, valid, test (70%, 10%, 20%)\n",
    "#Xs_train, Xs_test, y_train, y_test = scsplit(X, Y, stratify=Y, test_size=0.2, random_state=5, continuous=True)\n",
    "\n",
    "Xs_train, Xs_test, y_train, y_test = train_test_split(X, Y, test_size=0.2, random_state=5)\n",
    "Xs_train.reset_index(inplace=True, drop=True)\n",
    "y_train.reset_index(inplace=True, drop=True)\n",
    "Xs_test.reset_index(inplace=True, drop=True)\n",
    "y_test.reset_index(inplace=True, drop=True)"
   ]
  },
  {
   "cell_type": "code",
   "execution_count": null,
   "metadata": {
    "id": "GtWndukLNTAw"
   },
   "outputs": [],
   "source": [
    "# Normalise the training dataset\n",
    "features_list = list(Xs_train.columns)\n",
    "scaler = StandardScaler()\n",
    "scaler.fit(Xs_train)\n",
    "Xs_train_norm = scaler.transform(Xs_train)\n",
    "Xs_train = pd.DataFrame(Xs_train_norm, columns=features_list)\n",
    "train_dataset = pd.concat([y_train, Xs_train], axis=1)\n",
    "\n",
    "# Use the settings for training dataset to normalise testing dataset too\n",
    "Xs_test_norm = scaler.transform(Xs_test)\n",
    "Xs_test = pd.DataFrame(Xs_test_norm, columns=features_list)\n",
    "test_dataset = pd.concat([y_test, Xs_test], axis=1)"
   ]
  },
  {
   "cell_type": "markdown",
   "metadata": {
    "id": "ODfVHq4T-HA2"
   },
   "source": [
    "# Functions for different method"
   ]
  },
  {
   "cell_type": "code",
   "execution_count": null,
   "metadata": {
    "colab": {
     "base_uri": "https://localhost:8080/"
    },
    "id": "xGoaFGommLsm",
    "outputId": "281dbc23-0f9f-45fa-b4f4-8ceef98cc786"
   },
   "outputs": [],
   "source": [
    "# List of methods we are using\n",
    "with_NMHC = ['with', 'without']\n",
    "outliers = ['none', 'delete', 'whiskerCapped', 'median', 'mean']\n",
    "null_value = ['delete', 'median', 'mean', 'nearest']\n",
    "feature_selection = ['none', 'lasso', 'pca']\n",
    "method_list = []\n",
    "for a in with_NMHC:\n",
    "  for b in outliers:\n",
    "    for c in null_value:\n",
    "      for d in feature_selection:\n",
    "        method_list.append((a,b,c,d))\n",
    "\n",
    "print(len(method_list))"
   ]
  },
  {
   "cell_type": "markdown",
   "metadata": {
    "id": "tH6AHHr7nyBk"
   },
   "source": [
    "## Function to deal with NMHC column\n"
   ]
  },
  {
   "cell_type": "code",
   "execution_count": null,
   "metadata": {
    "id": "GGnE15TSn01R"
   },
   "outputs": [],
   "source": [
    "# Method to deal with NMHC column because there is too much null data\n",
    "def NMHC(method):\n",
    "  train_df = train_dataset.copy()\n",
    "  test_df = test_dataset.copy()\n",
    "  if method == 'with':\n",
    "    return train_df, test_df\n",
    "  elif method == 'without':\n",
    "    train_df = train_df.drop(['NMHC(GT)'], axis=1)\n",
    "    test_df = test_df.drop(['NMHC(GT)'], axis=1)\n",
    "    return train_df, test_df\n",
    "  else:\n",
    "    print(\"No Outliers method found\")"
   ]
  },
  {
   "cell_type": "markdown",
   "metadata": {
    "id": "ynk5yc6Pl-SU"
   },
   "source": [
    "## Function to deal with Outliers\n"
   ]
  },
  {
   "cell_type": "code",
   "execution_count": null,
   "metadata": {
    "id": "KbynYfkc9JC5"
   },
   "outputs": [],
   "source": [
    "# Method to deal with outliers\n",
    "def outliers(method, dataset):\n",
    "  q1 = dataset.quantile(0.25)\n",
    "  q3 = dataset.quantile(0.75)\n",
    "  iqr = q3 - q1\n",
    "  factor = 1.5\n",
    "  lower_whisker = q1 - (factor * iqr)\n",
    "  upper_whisker = q3 + (factor * iqr)\n",
    "  features_list = list(dataset.columns)\n",
    "  features_list.remove(features_list[0])\n",
    "  \n",
    "  if method == 'none':\n",
    "    return dataset\n",
    "\n",
    "  elif method == 'delete':\n",
    "    dataset = dataset[~((dataset < (q1 - factor * iqr)) | (dataset > (q3 + factor * iqr))).any(axis=1)].reset_index(drop=True)\n",
    "    return dataset\n",
    "\n",
    "  elif method == 'whiskerCapped':\n",
    "    for feature_name in features_list:\n",
    "      dataset.loc[dataset[feature_name] < dataset[feature_name].quantile(0.25), feature_name] = dataset[feature_name].quantile(0.25)\n",
    "      dataset.loc[dataset[feature_name] > dataset[feature_name].quantile(0.75), feature_name] = dataset[feature_name].quantile(0.75)\n",
    "    return dataset\n",
    "\n",
    "  elif method == 'median':\n",
    "    for feature_name in features_list:  \n",
    "      dataset.loc[dataset[feature_name] < dataset[feature_name].quantile(0.25), feature_name] = dataset[feature_name].median()\n",
    "      dataset.loc[dataset[feature_name] > dataset[feature_name].quantile(0.75), feature_name] = dataset[feature_name].median()\n",
    "    return dataset\n",
    "\n",
    "  elif method == 'mean':\n",
    "    for feature_name in features_list:\n",
    "      dataset.loc[dataset[feature_name] < dataset[feature_name].quantile(0.25), feature_name] = dataset[feature_name].mean()\n",
    "      dataset.loc[dataset[feature_name] > dataset[feature_name].quantile(0.75), feature_name] = dataset[feature_name].mean()\n",
    "    return dataset\n",
    "\n",
    "  else:\n",
    "    print(\"No Outliers method found\")"
   ]
  },
  {
   "cell_type": "markdown",
   "metadata": {
    "id": "tLKspRE6lvYh"
   },
   "source": [
    "## Function to deal with Null Values"
   ]
  },
  {
   "cell_type": "code",
   "execution_count": null,
   "metadata": {
    "id": "CgIyJ6gvpKsv"
   },
   "outputs": [],
   "source": [
    "# Method to deal with null values\n",
    "def null_value(method, train_dataset, test_dataset):\n",
    "  if method == \"delete\":\n",
    "    train_dataset = train_dataset.dropna(axis=0, how='any').reset_index(drop=True)\n",
    "    test_dataset = test_dataset.dropna(axis=0, how='any').reset_index(drop=True)\n",
    "\n",
    "    return train_dataset, test_dataset\n",
    "\n",
    "  else:\n",
    "    X_train = train_dataset.drop(['AH'], axis=1)\n",
    "    y_train = train_dataset['AH']\n",
    "\n",
    "    X_test = test_dataset.drop(['AH'], axis=1)\n",
    "    y_test = test_dataset['AH']\n",
    "    features_name = list(X_train.columns)\n",
    "\n",
    "    if method == 'median':\n",
    "      impute_median = SimpleImputer(missing_values=np.nan, strategy='median')\n",
    "      impute_median.fit(X_train, y_train)\n",
    "      X_train = impute_median.transform(X_train)\n",
    "\n",
    "      # Use setting from training set\n",
    "      X_test = impute_median.transform(X_test)\n",
    "\n",
    "      train_dataset = pd.concat([y_train, pd.DataFrame(X_train, columns=features_name)], axis=1)\n",
    "      test_dataset = pd.concat([y_test, pd.DataFrame(X_test, columns=features_name)], axis=1)\n",
    "\n",
    "      return train_dataset, test_dataset\n",
    "\n",
    "    elif method == 'mean':\n",
    "      impute_mean = SimpleImputer(missing_values=np.nan, strategy='mean')\n",
    "      impute_mean.fit(X_train, y_train)\n",
    "      X_train = impute_mean.transform(X_train)\n",
    "\n",
    "      # Use setting from training set\n",
    "      X_test = impute_mean.transform(X_test)\n",
    "\n",
    "      train_dataset = pd.concat([y_train, pd.DataFrame(X_train, columns=features_name)], axis=1)\n",
    "      test_dataset = pd.concat([y_test, pd.DataFrame(X_test, columns=features_name)], axis=1)\n",
    "\n",
    "      return train_dataset, test_dataset\n",
    "\n",
    "    elif method == 'nearest':\n",
    "      imputer_knn = KNNImputer(missing_values=np.nan, n_neighbors=10)\n",
    "      imputer_knn.fit(X_train, y_train)\n",
    "      X_train = imputer_knn.transform(X_train)\n",
    "\n",
    "      # Use setting from training set\n",
    "      X_test = imputer_knn.transform(X_test)\n",
    "\n",
    "      train_dataset = pd.concat([y_train, pd.DataFrame(X_train, columns=features_name)], axis=1)\n",
    "      test_dataset = pd.concat([y_test, pd.DataFrame(X_test, columns=features_name)], axis=1)\n",
    "\n",
    "      return train_dataset, test_dataset\n",
    "\n",
    "    else:\n",
    "        print(\"No Data Imputation method found\")"
   ]
  },
  {
   "cell_type": "markdown",
   "metadata": {
    "id": "kNzAwSwKmBOa"
   },
   "source": [
    "## Function for Feature Scaling"
   ]
  },
  {
   "cell_type": "code",
   "execution_count": null,
   "metadata": {
    "id": "YVL2FDd0Ae7Z"
   },
   "outputs": [],
   "source": [
    "# Feature Scaling Method\n",
    "def feature_scaling(method, train_dataset, test_dataset):\n",
    "  if method == 'none':\n",
    "    return train_dataset, test_dataset\n",
    "\n",
    "  elif method == 'lasso':\n",
    "    features_name = []\n",
    "    X_train = train_dataset.drop(['AH'], axis=1)\n",
    "    y_train = train_dataset['AH']\n",
    "    \n",
    "    features_list = list(X_train.columns)\n",
    "\n",
    "    X_test = test_dataset.drop(['AH'], axis=1)\n",
    "    y_test = test_dataset['AH']\n",
    "\n",
    "    # Lasso Model\n",
    "    lasso = linear_model.Lasso(max_iter=50, random_state=5, alpha=0.1).fit(X_train,y_train.values)\n",
    "    model = SelectFromModel(lasso, prefit=True)\n",
    "    features_output = model.get_support(indices=True)\n",
    "    train_dataset = model.transform(X_train)\n",
    "\n",
    "    # Use setting from training set\n",
    "    test_dataset = model.transform(X_test)\n",
    "\n",
    "    for i in features_output:\n",
    "        features_name.append(features_list[i])\n",
    "\n",
    "    X_train = pd.DataFrame(train_dataset, columns=features_name)\n",
    "    X_test = pd.DataFrame(test_dataset, columns=features_name)\n",
    "\n",
    "    train_dataset = pd.concat([y_train, X_train], axis=1)\n",
    "    test_dataset = pd.concat([y_test, X_test], axis=1)\n",
    "\n",
    "    return train_dataset, test_dataset\n",
    "\n",
    "  elif method == 'pca':\n",
    "    X_train = train_dataset.drop(['AH'], axis=1)\n",
    "    y_train = train_dataset['AH']\n",
    "\n",
    "    X_test = test_dataset.drop(['AH'], axis=1)\n",
    "    y_test = test_dataset['AH']\n",
    "\n",
    "    # PCA Model\n",
    "    pca = PCA(.95)\n",
    "    pca.fit(X_train)\n",
    "    PCA(copy=True, iterated_power='auto', n_components=0.95, random_state=5,svd_solver='auto', whiten=False)\n",
    "    X_train = pca.transform(X_train)\n",
    "\n",
    "    # Use setting from training set\n",
    "    X_test = pca.transform(X_test)\n",
    "\n",
    "    train_dataset = pd.concat([y_train, pd.DataFrame(X_train)], axis=1)\n",
    "    test_dataset = pd.concat([y_test, pd.DataFrame(X_test)], axis=1)\n",
    "\n",
    "    return train_dataset, test_dataset\n",
    "\n",
    "  else:\n",
    "    print(\"No Feature Selection method found\")"
   ]
  },
  {
   "cell_type": "markdown",
   "metadata": {
    "id": "vClPi63NnFhq"
   },
   "source": [
    "# AI Models\n"
   ]
  },
  {
   "cell_type": "markdown",
   "metadata": {
    "id": "1u9BgUvLryd_"
   },
   "source": [
    "## Linear Regression"
   ]
  },
  {
   "cell_type": "code",
   "execution_count": null,
   "metadata": {
    "id": "17YG4HIK0ueZ"
   },
   "outputs": [],
   "source": [
    "# Linear Regression for the processed dataset\n",
    "lr_mae = []\n",
    "lr_mse = []\n",
    "lr_loss = []\n",
    "lr_bias = []\n",
    "lr_variance = []\n",
    "\n",
    "for i in range(0, len(method_list)):\n",
    "  # Get the data based on the method we want to try\n",
    "  train, test = NMHC(method_list[i][0])\n",
    "  train, test = null_value(method_list[i][2], outliers(method_list[i][1], train), test)\n",
    "  train, test = feature_scaling(method_list[i][3], train, test)\n",
    "\n",
    "  Xs_train = train.drop(['AH'], axis=1)\n",
    "  Xs_test = test.drop(['AH'], axis=1)\n",
    "  y_train = train['AH']\n",
    "  y_test = test['AH']\n",
    "\n",
    "  Xs_train, Xs_val, y_train, y_val = scsplit(Xs_train, y_train, stratify=y_train, test_size=0.125, random_state=5, continuous=True)\n",
    "\n",
    "  lr = LinearRegression()\n",
    "  lr.fit(Xs_train, y_train)\n",
    "\n",
    "  gs = GridSearchCV(lr, param_grid={'fit_intercept': (True, False)},\n",
    "                    cv = 5, n_jobs = 5, scoring = 'r2')\n",
    "  gs.fit(Xs_val, y_val)\n",
    "\n",
    "  lr.set_params(**gs.best_params_)\n",
    "  lr.fit(Xs_train, y_train)\n",
    "  lr_predict = lr.predict(Xs_test)\n",
    "    \n",
    "  # Scoring\n",
    "  lr_mae.append(mean_absolute_error(y_test, lr_predict))\n",
    "  lr_mse.append(mean_squared_error(y_test, lr_predict))"
   ]
  },
  {
   "cell_type": "markdown",
   "metadata": {
    "id": "YQdgND4oqExq"
   },
   "source": [
    "## KNN Regressor"
   ]
  },
  {
   "cell_type": "code",
   "execution_count": null,
   "metadata": {
    "id": "RlQ-zPjoqKfs"
   },
   "outputs": [],
   "source": [
    "# K-Nearest Neighbour Regression for the processed dataset\n",
    "knn_mae = []\n",
    "knn_mse = []\n",
    "knn_loss = []\n",
    "knn_bias = []\n",
    "knn_variance = []\n",
    "\n",
    "for i in range(0, len(method_list)):\n",
    "  # Get the data based on the method we want to try\n",
    "  train, test = NMHC(method_list[i][0])\n",
    "  train, test = null_value(method_list[i][2], outliers(method_list[i][1], train), test)\n",
    "  train, test = feature_scaling(method_list[i][3], train, test)\n",
    "\n",
    "  Xs_train = train.drop(['AH'], axis=1)\n",
    "  Xs_test = test.drop(['AH'], axis=1)\n",
    "  y_train = train['AH']\n",
    "  y_test = test['AH']\n",
    "\n",
    "  Xs_train, Xs_val, y_train, y_val = scsplit(Xs_train, y_train, stratify=y_train, test_size=0.125, random_state=5, continuous=True)\n",
    "\n",
    "  knn = KNeighborsRegressor()\n",
    "  knn.fit(Xs_train, y_train)\n",
    "  \n",
    "  distributions={'weights': ('uniform', 'distance'),\n",
    "                 'algorithm': ('auto', 'ball_tree', 'kd_tree', 'brute'),\n",
    "                 'n_neighbors': range(3,50)}\n",
    "\n",
    "  gs = RandomizedSearchCV(knn, distributions, cv = 5, n_jobs = 5, random_state = 5, scoring = 'r2', n_iter = 20)\n",
    "  gs.fit(Xs_val, y_val)\n",
    "\n",
    "  knn.set_params(**gs.best_params_)\n",
    "  knn.fit(Xs_train, y_train)\n",
    "  knn_predict = knn.predict(Xs_test)\n",
    "\n",
    "  # Scoring\n",
    "  knn_mae.append(mean_absolute_error(y_test, knn_predict))\n",
    "  knn_mse.append(mean_squared_error(y_test, knn_predict))"
   ]
  },
  {
   "cell_type": "markdown",
   "metadata": {
    "id": "N7KO6O-Hr3w1"
   },
   "source": [
    "## Support Vector Regression"
   ]
  },
  {
   "cell_type": "code",
   "execution_count": null,
   "metadata": {
    "id": "xGWvLQJUoMuA"
   },
   "outputs": [],
   "source": [
    "# Support Vector Regression for the processed dataset\n",
    "svr_mae = []\n",
    "svr_mse = []\n",
    "svr_loss = []\n",
    "svr_bias = []\n",
    "svr_variance = []\n",
    "\n",
    "for i in range(0, len(method_list)):\n",
    "  # Get the data based on the method we want to try\n",
    "  train, test = NMHC(method_list[i][0])\n",
    "  train, test = null_value(method_list[i][2], outliers(method_list[i][1], train), test)\n",
    "  train, test = feature_scaling(method_list[i][3], train, test)\n",
    "\n",
    "  Xs_train = train.drop(['AH'], axis=1)\n",
    "  Xs_test = test.drop(['AH'], axis=1)\n",
    "  y_train = train['AH']\n",
    "  y_test = test['AH']\n",
    "\n",
    "  Xs_train, Xs_val, y_train, y_val = scsplit(Xs_train, y_train, stratify=y_train, test_size=0.125, random_state=5, continuous=True)\n",
    "\n",
    "\n",
    "  svr = SVR(max_iter = 500)\n",
    "  svr.fit(Xs_train, y_train)\n",
    "\n",
    "  distributions = {'kernel': ('linear', 'rbf', 'sigmoid', 'poly'),\n",
    "                   'gamma': ('scale', 'auto'),\n",
    "                   'C': np.arange(0, 5, 0.1), \n",
    "                   'epsilon': np.arange(0, 5, 0.1)}\n",
    "  gs = RandomizedSearchCV(svr, distributions, cv = 5, n_jobs = 5, random_state = 5, scoring = 'r2', n_iter = 20)\n",
    "  gs.fit(Xs_val, y_val)\n",
    "\n",
    "  svr.set_params(**gs.best_params_)\n",
    "  svr.fit(Xs_train, y_train)\n",
    "  svr_predict = svr.predict(Xs_test)\n",
    "\n",
    "  # Scoring\n",
    "  svr_mae.append(mean_absolute_error(y_test, svr_predict))\n",
    "  svr_mse.append(mean_squared_error(y_test, svr_predict))"
   ]
  },
  {
   "cell_type": "markdown",
   "metadata": {
    "id": "4ev1wofQr4P8"
   },
   "source": [
    "## Decision Tree Regressor"
   ]
  },
  {
   "cell_type": "code",
   "execution_count": null,
   "metadata": {
    "id": "RiLoDMFsql8K"
   },
   "outputs": [],
   "source": [
    "# Decision Tree Regressor for the processed dataset\n",
    "dt_mae = []\n",
    "dt_mse = []\n",
    "dt_loss = []\n",
    "dt_bias = []\n",
    "dt_variance = []\n",
    "\n",
    "for i in range(0, len(method_list)):\n",
    "  # Get the data based on the method we want to try\n",
    "  train, test = NMHC(method_list[i][0])\n",
    "  train, test = null_value(method_list[i][2], outliers(method_list[i][1], train), test)\n",
    "  train, test = feature_scaling(method_list[i][3], train, test)\n",
    "\n",
    "  Xs_train = train.drop(['AH'], axis=1)\n",
    "  Xs_test = test.drop(['AH'], axis=1)\n",
    "  y_train = train['AH']\n",
    "  y_test = test['AH']\n",
    "\n",
    "  Xs_train, Xs_val, y_train, y_val = scsplit(Xs_train, y_train, stratify=y_train, test_size=0.125, random_state=5, continuous=True)\n",
    "\n",
    "\n",
    "  dt = DecisionTreeRegressor(random_state=5)\n",
    "  dt.fit(Xs_train, y_train)\n",
    "\n",
    "  gs = GridSearchCV(dt, param_grid={'splitter': ('best', 'random'), \n",
    "                                    'max_features': ('auto', 'sqrt', 'log2')},\n",
    "                    cv = 5, n_jobs = 5, scoring = 'r2')\n",
    "  gs.fit(Xs_val, y_val)\n",
    "\n",
    "  dt.set_params(**gs.best_params_)\n",
    "  dt.fit(Xs_train, y_train)\n",
    "  dt_predict = dt.predict(Xs_test)\n",
    "\n",
    "  # Scoring\n",
    "  dt_mae.append(mean_absolute_error(y_test, dt_predict))\n",
    "  dt_mse.append(mean_squared_error(y_test, dt_predict))"
   ]
  },
  {
   "cell_type": "markdown",
   "metadata": {
    "id": "iqr17WAGp_7e"
   },
   "source": [
    "## Random Forest Regressor"
   ]
  },
  {
   "cell_type": "code",
   "execution_count": null,
   "metadata": {
    "id": "DrXnbBKyqDla"
   },
   "outputs": [],
   "source": [
    "# Random Forest Regressor for the processed dataset\n",
    "rf_mae = []\n",
    "rf_mse = []\n",
    "rf_loss = []\n",
    "rf_bias = []\n",
    "rf_variance = []\n",
    "\n",
    "for i in range(0, len(method_list)):\n",
    "  # Get the data based on the method we want to try\n",
    "  train, test = NMHC(method_list[i][0])\n",
    "  train, test = null_value(method_list[i][2], outliers(method_list[i][1], train), test)\n",
    "  train, test = feature_scaling(method_list[i][3], train, test)\n",
    "\n",
    "  Xs_train = train.drop(['AH'], axis=1)\n",
    "  Xs_test = test.drop(['AH'], axis=1)\n",
    "  y_train = train['AH']\n",
    "  y_test = test['AH']\n",
    "\n",
    "  Xs_train, Xs_val, y_train, y_val = scsplit(Xs_train, y_train, stratify=y_train, test_size=0.125, random_state=5, continuous=True)\n",
    "\n",
    "\n",
    "  rf = RandomForestRegressor(random_state=5, n_jobs = 100)\n",
    "  rf.fit(Xs_train, y_train)\n",
    "\n",
    "  distributions={'n_estimators': range(50,500), \n",
    "                 'criterion': ('squared_error', 'absolute_error', 'friedman_mse', 'poisson'),\n",
    "                 'max_features': ('auto', 'sqrt', 'log2')}\n",
    "\n",
    "  gs = RandomizedSearchCV(rf, distributions, cv = 5, n_jobs = 5, random_state = 5, scoring = 'r2', n_iter = 20)\n",
    "  gs.fit(Xs_val, y_val)\n",
    "\n",
    "  rf.set_params(**gs.best_params_)\n",
    "  rf.fit(Xs_train, y_train)\n",
    "  rf_predict = rf.predict(Xs_test)\n",
    "\n",
    "  # Scoring\n",
    "  rf_mae.append(mean_absolute_error(y_test, rf_predict))\n",
    "  rf_mse.append(mean_squared_error(y_test, rf_predict))"
   ]
  },
  {
   "cell_type": "markdown",
   "metadata": {
    "id": "B561JIWdr4Vb"
   },
   "source": [
    "## MLPRegressor"
   ]
  },
  {
   "cell_type": "code",
   "execution_count": null,
   "metadata": {
    "id": "44YBsPVTra1K"
   },
   "outputs": [],
   "source": [
    "# MLP Regressor for the processed dataset\n",
    "nn_mae = []\n",
    "nn_mse = []\n",
    "nn_loss = []\n",
    "nn_bias = []\n",
    "nn_variance = []\n",
    "\n",
    "for i in range(0, len(method_list)):\n",
    "  # Get the data based on the method we want to try\n",
    "  train, test = NMHC(method_list[i][0])\n",
    "  train, test = null_value(method_list[i][2], outliers(method_list[i][1], train), test)\n",
    "  train, test = feature_scaling(method_list[i][3], train, test)\n",
    "\n",
    "  Xs_train = train.drop(['AH'], axis=1)\n",
    "  Xs_test = test.drop(['AH'], axis=1)\n",
    "  y_train = train['AH']\n",
    "  y_test = test['AH']\n",
    "\n",
    "  Xs_train, Xs_val, y_train, y_val = scsplit(Xs_train, y_train, stratify=y_train, test_size=0.125, random_state=5, continuous=True)\n",
    "\n",
    "\n",
    "  nn = MLPRegressor(random_state=5, max_iter = 500)\n",
    "  nn.fit(Xs_train, y_train)\n",
    "\n",
    "  distributions={'activation': ('identity', 'logistic', 'tanh', 'relu'),\n",
    "                'hidden_layer_sizes': range(1,500),\n",
    "                'solver': ('lbfgs', 'sgd', 'adam'),\n",
    "                'alpha': np.arange(0, 1, 0.001),\n",
    "                'learning_rate': ('constant', 'invscaling', 'adaptive')}\n",
    "\n",
    "  gs = RandomizedSearchCV(nn, distributions, cv = 5, n_jobs = 5, random_state = 5, scoring = 'r2', n_iter = 20)\n",
    "  gs.fit(Xs_val, y_val)\n",
    "\n",
    "  nn.set_params(**gs.best_params_)\n",
    "  nn.fit(Xs_train, y_train)\n",
    "  nn_predict = nn.predict(Xs_test)\n",
    "                                                      \n",
    "  # Scoring\n",
    "  nn_mae.append(mean_absolute_error(y_test, nn_predict))\n",
    "  nn_mse.append(mean_squared_error(y_test, nn_predict))"
   ]
  },
  {
   "cell_type": "markdown",
   "metadata": {
    "id": "dLs68F8mcO-9"
   },
   "source": [
    "# Evaluation Metrics"
   ]
  },
  {
   "cell_type": "markdown",
   "metadata": {
    "id": "wBs-BKrbKD-z"
   },
   "source": [
    "## Result Table"
   ]
  },
  {
   "cell_type": "markdown",
   "metadata": {},
   "source": [
    "### MAE Scoring"
   ]
  },
  {
   "cell_type": "code",
   "execution_count": null,
   "metadata": {
    "id": "-nQbR0U-WMc1"
   },
   "outputs": [],
   "source": [
    "# MAE scoring for all methods used in a tabular form\n",
    "mae_result_list = list(zip(method_list, lr_mae, knn_mae, svr_mae, dt_mae, rf_mae, nn_mae))\n",
    "column_name = ['method', 'lr mae', 'knn mae', 'svr mae', 'dt mae', 'rf mae', 'nn mae']\n",
    "\n",
    "mae_result = pd.DataFrame(mae_result_list, columns=column_name)\n",
    "mae_result[['NMHC', 'outliers', 'null', 'features']] = pd.DataFrame(mae_result['method'].tolist(), index=mae_result.index)\n",
    "mae_result = mae_result[['NMHC', 'outliers', 'null', 'features', 'lr mae', 'knn mae', 'svr mae', 'dt mae', 'rf mae', 'nn mae']]\n",
    "mae_result"
   ]
  },
  {
   "cell_type": "code",
   "execution_count": null,
   "metadata": {},
   "outputs": [],
   "source": [
    "# See the average of all NMHC methods\n",
    "model_column = ['lr mae', 'knn mae', 'svr mae', 'dt mae', 'rf mae', 'nn mae']\n",
    "               \n",
    "NMHC_average = mae_result.copy()\n",
    "NMHC_average.drop(('outliers'), inplace=True, axis=1)\n",
    "NMHC_average.drop(('null'), inplace=True, axis=1)\n",
    "NMHC_average.drop(('features'), inplace=True, axis=1)\n",
    "\n",
    "NMHC_average = NMHC_average.groupby('NMHC')[model_column].mean()\n",
    "NMHC_average"
   ]
  },
  {
   "cell_type": "code",
   "execution_count": null,
   "metadata": {},
   "outputs": [],
   "source": [
    "# See the average of all outliers methods              \n",
    "outliers_average = mae_result.copy()\n",
    "outliers_average = outliers_average[outliers_average.NMHC == 'without']\n",
    "\n",
    "outliers_average.drop(('null'), inplace=True, axis=1)\n",
    "outliers_average.drop(('features'), inplace=True, axis=1)\n",
    "\n",
    "outliers_average = outliers_average.groupby('outliers')[model_column].mean()\n",
    "outliers_average"
   ]
  },
  {
   "cell_type": "code",
   "execution_count": null,
   "metadata": {},
   "outputs": [],
   "source": [
    "# See the average of all null methods            \n",
    "null_average = mae_result.copy()\n",
    "null_average = null_average[null_average.NMHC == 'without']\n",
    "null_average = null_average[null_average.outliers == 'delete']\n",
    "\n",
    "null_average.drop(('features'), inplace=True, axis=1)\n",
    "\n",
    "null_average = null_average.groupby('null')[model_column].mean()\n",
    "null_average"
   ]
  },
  {
   "cell_type": "code",
   "execution_count": null,
   "metadata": {},
   "outputs": [],
   "source": [
    "# See the average of all feature selection methods              \n",
    "features_average = mae_result.copy()\n",
    "features_average = features_average[features_average.NMHC == 'without']\n",
    "features_average = features_average[features_average.outliers == 'delete']\n",
    "features_average = features_average[features_average.null == 'delete']\n",
    "\n",
    "features_average = features_average.groupby('features')[model_column].mean()\n",
    "features_average"
   ]
  },
  {
   "cell_type": "markdown",
   "metadata": {},
   "source": [
    "### MSE Scoring"
   ]
  },
  {
   "cell_type": "code",
   "execution_count": null,
   "metadata": {},
   "outputs": [],
   "source": [
    "# MSE scoring for all methods used in a tabular form\n",
    "mse_result_list = list(zip(method_list, lr_mse, knn_mse, svr_mse, dt_mse, rf_mse, nn_mse))\n",
    "column_name = ['method', 'lr mse', 'knn mse', 'svr mse', 'dt mse', 'rf mse', 'nn mse']\n",
    "\n",
    "mse_result = pd.DataFrame(mse_result_list, columns=column_name)\n",
    "mse_result[['NMHC', 'outliers', 'null', 'features']] = pd.DataFrame(mae_result['method'].tolist(), index=mae_result.index)\n",
    "mse_result = mse_result[['NMHC', 'outliers', 'null', 'features', 'lr mse', 'knn mse', 'svr mse', 'dt mse', 'rf mse', 'nn mse']]\n",
    "mse_result"
   ]
  },
  {
   "cell_type": "code",
   "execution_count": null,
   "metadata": {},
   "outputs": [],
   "source": [
    "# See the average of all NMHC methods   \n",
    "model_column = ['lr mse', 'knn mse', 'svr mse', 'dt mse', 'rf mse', 'nn mse']\n",
    "\n",
    "NMHC_average = mse_result.copy()\n",
    "NMHC_average.drop(('outliers'), inplace=True, axis=1)\n",
    "NMHC_average.drop(('null'), inplace=True, axis=1)\n",
    "NMHC_average.drop(('features'), inplace=True, axis=1)\n",
    "\n",
    "NMHC_average = NMHC_average.groupby('NMHC')[model_column].mean()\n",
    "NMHC_average"
   ]
  },
  {
   "cell_type": "code",
   "execution_count": null,
   "metadata": {},
   "outputs": [],
   "source": [
    "# See the average of all outliers methods             \n",
    "outliers_average = mse_result.copy()\n",
    "outliers_average = outliers_average[outliers_average.NMHC == 'with']\n",
    "\n",
    "outliers_average.drop(('null'), inplace=True, axis=1)\n",
    "outliers_average.drop(('features'), inplace=True, axis=1)\n",
    "\n",
    "outliers_average = outliers_average.groupby('outliers')[model_column].mean()\n",
    "outliers_average"
   ]
  },
  {
   "cell_type": "code",
   "execution_count": null,
   "metadata": {},
   "outputs": [],
   "source": [
    "# See the average of all null methods              \n",
    "null_average = mse_result.copy()\n",
    "null_average = null_average[null_average.NMHC == 'with']\n",
    "null_average = null_average[null_average.outliers == 'delete']\n",
    "\n",
    "null_average.drop(('features'), inplace=True, axis=1)\n",
    "\n",
    "null_average = null_average.groupby('null')[model_column].mean()\n",
    "null_average"
   ]
  },
  {
   "cell_type": "code",
   "execution_count": null,
   "metadata": {},
   "outputs": [],
   "source": [
    "# See the average of all feature selection methods \n",
    "features_average = mse_result.copy()\n",
    "features_average = features_average[features_average.NMHC == 'with']\n",
    "features_average = features_average[features_average.outliers == 'delete']\n",
    "features_average = features_average[features_average.null == 'delete']\n",
    "\n",
    "features_average = features_average.groupby('features')[model_column].mean()\n",
    "features_average"
   ]
  },
  {
   "cell_type": "markdown",
   "metadata": {
    "id": "CEdI8ae4J_xJ"
   },
   "source": [
    "# Final Model After Settings"
   ]
  },
  {
   "cell_type": "markdown",
   "metadata": {
    "id": "xMxecZYPbG0O"
   },
   "source": [
    "## Get the data using functions"
   ]
  },
  {
   "cell_type": "code",
   "execution_count": null,
   "metadata": {
    "id": "6Yi2G-puaMd5"
   },
   "outputs": [],
   "source": [
    "# Get the final data based on the result of the method list using the function created\n",
    "train, test = NMHC('without')\n",
    "train, test = null_value('delete', outliers('delete', train), test)\n",
    "train, test = feature_scaling('lasso', train, test)\n",
    "\n",
    "Xs_train = train.drop(['AH'], axis=1)\n",
    "Xs_test = test.drop(['AH'], axis=1)\n",
    "y_train = train['AH']\n",
    "y_test = test['AH']\n",
    "\n",
    "Xs_train, Xs_val, y_train, y_val = scsplit(Xs_train, y_train, stratify=y_train, test_size=0.125, random_state=5, continuous=True)\n",
    "\n",
    "models = []"
   ]
  },
  {
   "cell_type": "markdown",
   "metadata": {
    "id": "o-LEgydOebE6"
   },
   "source": [
    "## AI Models"
   ]
  },
  {
   "cell_type": "markdown",
   "metadata": {
    "id": "U9B3x2qUeeAS"
   },
   "source": [
    "### Linear Regression"
   ]
  },
  {
   "cell_type": "code",
   "execution_count": null,
   "metadata": {
    "id": "JqxbqjiZemjX"
   },
   "outputs": [],
   "source": [
    "lr = LinearRegression()\n",
    "lr.fit(Xs_train, y_train)\n",
    "\n",
    "distributions = {'fit_intercept': (True, False)}\n",
    "gs = RandomizedSearchCV(lr, distributions, cv = 5, n_jobs = 5, random_state = 5, scoring = 'r2', n_iter = 20)\n",
    "gs.fit(Xs_val, y_val)\n",
    "print(gs.best_params_)\n",
    "\n",
    "lr.set_params(**gs.best_params_)\n",
    "lr.fit(Xs_train, y_train)\n",
    "lr_predict = lr.predict(Xs_test)\n",
    "avg_expected_loss, avg_bias, avg_var = bias_variance_decomp(lr, Xs_train.values, y_train.values, Xs_test.values, y_test.values, \n",
    "                                                            loss='mse', random_seed=5)\n",
    "# Scoring\n",
    "lr_mae = mean_absolute_error(y_test, lr_predict)\n",
    "lr_mse = mean_squared_error(y_test, lr_predict)\n",
    "lr_loss = avg_expected_loss\n",
    "lr_bias = avg_bias\n",
    "lr_variance = avg_var\n",
    "\n",
    "# Get models to do statistical test\n",
    "models.append(lr)"
   ]
  },
  {
   "cell_type": "markdown",
   "metadata": {
    "id": "3rVnXkVlpbGx"
   },
   "source": [
    "### KNN Regressor"
   ]
  },
  {
   "cell_type": "code",
   "execution_count": null,
   "metadata": {
    "id": "gsG8wnS2pnVX"
   },
   "outputs": [],
   "source": [
    "knn = KNeighborsRegressor()\n",
    "knn.fit(Xs_train, y_train)\n",
    "  \n",
    "distributions={'weights': ('uniform', 'distance'),\n",
    "               'algorithm': ('auto', 'ball_tree', 'kd_tree', 'brute'),\n",
    "               'n_neighbors': range(3,50)}\n",
    "\n",
    "gs = RandomizedSearchCV(knn, distributions, cv = 5, n_jobs = 5, random_state = 5, scoring = 'r2', n_iter = 20)\n",
    "gs.fit(Xs_val, y_val)\n",
    "print(gs.best_params_)\n",
    "\n",
    "knn.set_params(**gs.best_params_)\n",
    "knn.fit(Xs_train, y_train)\n",
    "knn_predict = knn.predict(Xs_test)\n",
    "avg_expected_loss, avg_bias, avg_var = bias_variance_decomp(knn, Xs_train.values, y_train.values, Xs_test.values, y_test.values, \n",
    "                                                            loss='mse', random_seed=5)\n",
    "# Scoring\n",
    "knn_mae = mean_absolute_error(y_test, knn_predict)\n",
    "knn_mse = mean_squared_error(y_test, knn_predict)\n",
    "knn_loss = avg_expected_loss\n",
    "knn_bias = avg_bias\n",
    "knn_variance = avg_var\n",
    "\n",
    "# Get models to do statistical test\n",
    "models.append(knn)"
   ]
  },
  {
   "cell_type": "markdown",
   "metadata": {
    "id": "Eteoq67yegS4"
   },
   "source": [
    "### Support Vector Regressor"
   ]
  },
  {
   "cell_type": "code",
   "execution_count": null,
   "metadata": {
    "id": "idalCF05em_h"
   },
   "outputs": [],
   "source": [
    "svr = SVR(max_iter = 500)\n",
    "svr.fit(Xs_train, y_train)\n",
    "\n",
    "distributions = {'kernel': ('linear', 'rbf', 'sigmoid', 'poly'),\n",
    "                 'gamma': ('scale', 'auto'),\n",
    "                 'C': np.arange(0, 5, 0.1),\n",
    "                 'epsilon': np.arange(0, 5, 0.1)}\n",
    "gs = RandomizedSearchCV(svr, distributions, cv = 5, n_jobs = 5, random_state = 5, scoring = 'r2', n_iter = 20)\n",
    "gs.fit(Xs_val, y_val)\n",
    "print(gs.best_params_)\n",
    "\n",
    "svr.set_params(**gs.best_params_)\n",
    "svr.fit(Xs_train, y_train)\n",
    "svr_predict = svr.predict(Xs_test)\n",
    "avg_expected_loss, avg_bias, avg_var = bias_variance_decomp(svr, Xs_train.values, y_train.values, Xs_test.values, y_test.values, \n",
    "                                                            loss='mse', random_seed=5)\n",
    "# Scoring\n",
    "svr_mae = mean_absolute_error(y_test, svr_predict)\n",
    "svr_mse = mean_squared_error(y_test, svr_predict)\n",
    "svr_loss = avg_expected_loss\n",
    "svr_bias = avg_bias\n",
    "svr_variance = avg_var\n",
    "\n",
    "# Get models to do statistical test\n",
    "models.append(svr)"
   ]
  },
  {
   "cell_type": "markdown",
   "metadata": {
    "id": "gCjjMiBfeixX"
   },
   "source": [
    "### Decision Tree Regressor"
   ]
  },
  {
   "cell_type": "code",
   "execution_count": null,
   "metadata": {
    "id": "hSqmONtuenY0"
   },
   "outputs": [],
   "source": [
    "dt = DecisionTreeRegressor(random_state=5)\n",
    "dt.fit(Xs_train, y_train)\n",
    "\n",
    "distributions={\n",
    "    'splitter': ('best', 'random'),\n",
    "    'max_features': ('auto', 'sqrt', 'log2')}\n",
    "gs = RandomizedSearchCV(dt, distributions, cv = 5, n_jobs = 5, random_state = 5, scoring = 'r2', n_iter = 20)\n",
    "gs.fit(Xs_val, y_val)\n",
    "print(gs.best_params_)\n",
    "\n",
    "dt.set_params(**gs.best_params_)\n",
    "dt.fit(Xs_train, y_train)\n",
    "dt_predict = dt.predict(Xs_test)\n",
    "avg_expected_loss, avg_bias, avg_var = bias_variance_decomp(dt, Xs_train.values, y_train.values, Xs_test.values, y_test.values, \n",
    "                                                            loss='mse', random_seed=5)\n",
    "# Scoring\n",
    "dt_mae = mean_absolute_error(y_test, dt_predict)\n",
    "dt_mse = mean_squared_error(y_test, dt_predict)\n",
    "dt_loss = avg_expected_loss\n",
    "dt_bias = avg_bias\n",
    "dt_variance = avg_var\n",
    "\n",
    "# Get models to do statistical test\n",
    "models.append(dt)"
   ]
  },
  {
   "cell_type": "markdown",
   "metadata": {
    "id": "otfrurABpXP3"
   },
   "source": [
    "### Random Forest Regressor"
   ]
  },
  {
   "cell_type": "code",
   "execution_count": null,
   "metadata": {
    "id": "lpPGa3GnpmES"
   },
   "outputs": [],
   "source": [
    "rf = RandomForestRegressor(random_state=5, n_jobs = 5)\n",
    "rf.fit(Xs_train, y_train)\n",
    "\n",
    "distributions={'n_estimators': range(50,500), \n",
    "               'criterion': ('squared_error', 'absolute_error', 'friedman_mse', 'poisson'),\n",
    "               'max_features': ('auto', 'sqrt', 'log2')}\n",
    "\n",
    "gs = RandomizedSearchCV(rf, distributions, cv = 5, n_jobs = 5, random_state = 5, scoring = 'r2', n_iter = 20)\n",
    "gs.fit(Xs_val, y_val)\n",
    "print(gs.best_params_)\n",
    "\n",
    "rf.set_params(**gs.best_params_)\n",
    "rf.fit(Xs_train, y_train)\n",
    "rf_predict = rf.predict(Xs_test)\n",
    "avg_expected_loss, avg_bias, avg_var = bias_variance_decomp(rf, Xs_train.values, y_train.values, Xs_test.values, y_test.values, \n",
    "                                                              loss='mse', random_seed=5)\n",
    "\n",
    "# Scoring\n",
    "rf_mae = mean_absolute_error(y_test, rf_predict)\n",
    "rf_mse = mean_squared_error(y_test, rf_predict)\n",
    "rf_loss = avg_expected_loss\n",
    "rf_bias = avg_bias\n",
    "rf_variance = avg_var\n",
    "\n",
    "# Get models to do statistical test\n",
    "models.append(rf)"
   ]
  },
  {
   "cell_type": "markdown",
   "metadata": {
    "id": "fxE8EJ_0ekx6"
   },
   "source": [
    "### MLP Regressor"
   ]
  },
  {
   "cell_type": "code",
   "execution_count": null,
   "metadata": {
    "id": "2L3tSbmEen5v"
   },
   "outputs": [],
   "source": [
    "nn = MLPRegressor(random_state=5, max_iter = 500)\n",
    "nn.fit(Xs_train, y_train)\n",
    "\n",
    "distributions={'activation': ('identity', 'logistic', 'tanh', 'relu'),\n",
    "               'hidden_layer_sizes': range(1,500),\n",
    "               'solver': ('lbfgs', 'sgd', 'adam'),\n",
    "               'alpha': np.arange(0, 1, 0.001),\n",
    "               'learning_rate': ('constant', 'invscaling', 'adaptive')}\n",
    "gs = RandomizedSearchCV(nn, distributions, cv = 5, n_jobs = 5, random_state = 5, scoring = 'r2', n_iter = 20)\n",
    "gs.fit(Xs_val, y_val)\n",
    "print(gs.best_params_)\n",
    "\n",
    "nn.set_params(**gs.best_params_)\n",
    "nn.fit(Xs_train, y_train)\n",
    "nn_predict = nn.predict(Xs_test)\n",
    "avg_expected_loss, avg_bias, avg_var = bias_variance_decomp(lr, Xs_train.values, y_train.values, Xs_test.values, y_test.values, \n",
    "                                                            loss='mse', random_seed=5)\n",
    "\n",
    "# Scoring\n",
    "nn_mae = mean_absolute_error(y_test, nn_predict)\n",
    "nn_mse = mean_squared_error(y_test, nn_predict)\n",
    "nn_loss = avg_expected_loss\n",
    "nn_bias = avg_bias\n",
    "nn_variance = avg_var\n",
    "\n",
    "# Get models to do statistical test\n",
    "models.append(nn)"
   ]
  },
  {
   "cell_type": "markdown",
   "metadata": {
    "id": "8TJ4BvilgTN3"
   },
   "source": [
    "## Evaluation Metrics"
   ]
  },
  {
   "cell_type": "markdown",
   "metadata": {
    "id": "b-VkQHM8gZ0z"
   },
   "source": [
    "### Result Score"
   ]
  },
  {
   "cell_type": "code",
   "execution_count": null,
   "metadata": {
    "id": "hhQx7JNQgilU"
   },
   "outputs": [],
   "source": [
    "# MAE Score for the AI Models\n",
    "print(\"Logistic Regression MAE score: {}\".format(lr_mae))\n",
    "print(\"KNN MAE score: {}\".format(knn_mae))\n",
    "print(\"SVR MAE score: {}\".format(svr_mae))\n",
    "print(\"Decision Tree MAE score: {}\".format(dt_mae))\n",
    "print(\"Random Forest MAE score: {}\".format(rf_mae))\n",
    "print(\"MLP MAE score: {}\".format(nn_mae))"
   ]
  },
  {
   "cell_type": "code",
   "execution_count": null,
   "metadata": {
    "id": "3f-HK9Glgtxy"
   },
   "outputs": [],
   "source": [
    "# MSE Score for the AI Models\n",
    "print(\"Logistic Regression MSE score: {}\".format(lr_mse))\n",
    "print(\"KNN MSE score: {}\".format(knn_mse))\n",
    "print(\"SVR MSE score: {}\".format(svr_mse))\n",
    "print(\"Decision Tree MSE score: {}\".format(dt_mse))\n",
    "print(\"Random Forest MSE score: {}\".format(rf_mse))\n",
    "print(\"MLP MSE score: {}\".format(nn_mse))"
   ]
  },
  {
   "cell_type": "code",
   "execution_count": null,
   "metadata": {},
   "outputs": [],
   "source": [
    "# Loss for the AI Models\n",
    "print(\"Logistic Regression Loss: {}\".format(lr_loss))\n",
    "print(\"KNN Loss: {}\".format(knn_loss))\n",
    "print(\"SVR Loss: {}\".format(svr_loss))\n",
    "print(\"Decision Tree Loss: {}\".format(dt_loss))\n",
    "print(\"Random Forest Loss: {}\".format(rf_loss))\n",
    "print(\"MLP Loss: {}\".format(nn_loss))"
   ]
  },
  {
   "cell_type": "code",
   "execution_count": null,
   "metadata": {},
   "outputs": [],
   "source": [
    "# Bias for the AI Models\n",
    "print(\"Logistic Regression Bias: {}\".format(lr_bias))\n",
    "print(\"KNN Bias: {}\".format(knn_bias))\n",
    "print(\"SVR Bias: {}\".format(svr_bias))\n",
    "print(\"Decision Tree Bias: {}\".format(dt_bias))\n",
    "print(\"Random Forest Bias: {}\".format(rf_bias))\n",
    "print(\"MLP Bias: {}\".format(nn_bias))"
   ]
  },
  {
   "cell_type": "code",
   "execution_count": null,
   "metadata": {},
   "outputs": [],
   "source": [
    "# Variance for the AI Models\n",
    "print(\"Logistic Regression Variance: {}\".format(lr_variance))\n",
    "print(\"KNN Variance: {}\".format(knn_variance))\n",
    "print(\"SVR Variance: {}\".format(svr_variance))\n",
    "print(\"Decision Tree Variance: {}\".format(dt_variance))\n",
    "print(\"Random Forest Variance: {}\".format(rf_variance))\n",
    "print(\"MLP Variance: {}\".format(nn_variance))"
   ]
  },
  {
   "cell_type": "markdown",
   "metadata": {
    "id": "xBJguR_lHl6q"
   },
   "source": [
    "### Statistical Test"
   ]
  },
  {
   "cell_type": "code",
   "execution_count": null,
   "metadata": {
    "id": "S8djXUPrbb5w"
   },
   "outputs": [],
   "source": [
    "x = pd.concat([Xs_train, Xs_val, Xs_test]).reset_index(drop=True)\n",
    "y = pd.concat([y_train, y_val, y_test]).reset_index(drop=True)"
   ]
  },
  {
   "cell_type": "code",
   "execution_count": null,
   "metadata": {
    "id": "OsEGoMr0HqWo"
   },
   "outputs": [],
   "source": [
    "temp = models.copy()\n",
    "model_name = [\"LR\", \"KNN\", \"SVR\", \"DT\", \"RF\", \"ANN\"]\n",
    "temp_name = [\"LR\", \"KNN\", \"SVR\", \"DT\", \"RF\", \"ANN\"]\n",
    "alpha = 0.05\n",
    "t_stats = []\n",
    "p_value = []\n",
    "result = []\n",
    "a = 0\n",
    "b = 0\n",
    "\n",
    "for i in models:\n",
    "    temp.pop(0)\n",
    "    temp_name.pop(0)\n",
    "    for j in temp:\n",
    "        t, p = paired_ttest_5x2cv(estimator1=i,estimator2=j,X=x, y=y, random_seed=5)\n",
    "        t_stats.append(t)\n",
    "        p_value.append(p)\n",
    "        if p > alpha:\n",
    "            result.append(model_name[a] + \" \" + temp_name[b] + \" Agree, same model\")\n",
    "        else:\n",
    "            result.append(model_name[a] + \" \" + temp_name[b] + \" Reject, not the same model\")\n",
    "        b+=1\n",
    "        \n",
    "    a+=1\n",
    "    b = 0    \n",
    "    "
   ]
  },
  {
   "cell_type": "code",
   "execution_count": null,
   "metadata": {},
   "outputs": [],
   "source": [
    "for i in range(len(result)):\n",
    "    print(result[i])"
   ]
  }
 ],
 "metadata": {
  "colab": {
   "provenance": [],
   "toc_visible": true
  },
  "kernelspec": {
   "display_name": "Python 3 (ipykernel)",
   "language": "python",
   "name": "python3"
  },
  "language_info": {
   "codemirror_mode": {
    "name": "ipython",
    "version": 3
   },
   "file_extension": ".py",
   "mimetype": "text/x-python",
   "name": "python",
   "nbconvert_exporter": "python",
   "pygments_lexer": "ipython3",
   "version": "3.9.13"
  }
 },
 "nbformat": 4,
 "nbformat_minor": 1
}
